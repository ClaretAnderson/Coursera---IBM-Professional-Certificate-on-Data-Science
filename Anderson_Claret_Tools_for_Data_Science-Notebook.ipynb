{
 "cells": [
  {
   "cell_type": "markdown",
   "id": "e1fc21ee",
   "metadata": {},
   "source": [
    "# My Jupyter Notebook on IBM Watson Studio"
   ]
  },
  {
   "cell_type": "markdown",
   "id": "f074b115",
   "metadata": {},
   "source": [
    "__Anderson Faria Claret__\n",
    "\n",
    "Scientist"
   ]
  },
  {
   "cell_type": "markdown",
   "id": "964a5fd6",
   "metadata": {},
   "source": [
    "_I am interested in data science because there are many problems that can be solved with the propper use of data._"
   ]
  },
  {
   "cell_type": "markdown",
   "id": "9ac99218",
   "metadata": {},
   "source": [
    "### The code below calculates the value of a multiplication and replace the result in a string"
   ]
  },
  {
   "cell_type": "code",
   "execution_count": 3,
   "id": "26358347",
   "metadata": {},
   "outputs": [
    {
     "name": "stdout",
     "output_type": "stream",
     "text": [
      "13 multiplied by 2 is: 26\n"
     ]
    }
   ],
   "source": [
    "value = 13\n",
    "\n",
    "print(value, \"multiplied by 2 is:\", value * 2)"
   ]
  },
  {
   "cell_type": "markdown",
   "id": "31bf41db",
   "metadata": {},
   "source": [
    "<center>\n",
    "<img src=\"https://media.designrush.com/inspiration_images/134929/conversions/_1512513081_152_ibm-mobile.jpg\" width=\"200\" />\n",
    "</center>\n",
    "\n",
    "| ID | Name | Number | Address |\n",
    "| ------ | ------ | ------ | ------ |\n",
    "| 1 | Anderson | 12345 | Street 1 |\n",
    "| 2 | Carol | 54321 | Street 2 |\n",
    "| 3 | Charlotte | 09876 | Street 3 |\n",
    "\n",
    "\n",
    "* Bullet 1\n",
    "* Bullet 2\n",
    "* Bullet 3\n",
    "\n",
    "1. One\n",
    "2. Two\n",
    "3. Three\n",
    "\n",
    "\n",
    "<font size = 2 ><span style=\"color: red;\">Tools for Data Science</span></font>"
   ]
  },
  {
   "cell_type": "code",
   "execution_count": null,
   "id": "94ac891d",
   "metadata": {},
   "outputs": [],
   "source": []
  }
 ],
 "metadata": {
  "kernelspec": {
   "display_name": "Python 3 (ipykernel)",
   "language": "python",
   "name": "python3"
  },
  "language_info": {
   "codemirror_mode": {
    "name": "ipython",
    "version": 3
   },
   "file_extension": ".py",
   "mimetype": "text/x-python",
   "name": "python",
   "nbconvert_exporter": "python",
   "pygments_lexer": "ipython3",
   "version": "3.9.7"
  },
  "varInspector": {
   "cols": {
    "lenName": 16,
    "lenType": 16,
    "lenVar": 40
   },
   "kernels_config": {
    "python": {
     "delete_cmd_postfix": "",
     "delete_cmd_prefix": "del ",
     "library": "var_list.py",
     "varRefreshCmd": "print(var_dic_list())"
    },
    "r": {
     "delete_cmd_postfix": ") ",
     "delete_cmd_prefix": "rm(",
     "library": "var_list.r",
     "varRefreshCmd": "cat(var_dic_list()) "
    }
   },
   "types_to_exclude": [
    "module",
    "function",
    "builtin_function_or_method",
    "instance",
    "_Feature"
   ],
   "window_display": false
  }
 },
 "nbformat": 4,
 "nbformat_minor": 5
}
